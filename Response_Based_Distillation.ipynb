{
  "cells": [
    {
      "cell_type": "code",
      "execution_count": null,
      "metadata": {
        "colab": {
          "base_uri": "https://localhost:8080/"
        },
        "id": "BF6XStxijBAh",
        "outputId": "d53fe30a-9eeb-4184-97a7-b0f55376b85d"
      },
      "outputs": [
        {
          "name": "stdout",
          "output_type": "stream",
          "text": [
            "Collecting boto3\n",
            "  Downloading boto3-1.37.1-py3-none-any.whl.metadata (6.6 kB)\n",
            "Requirement already satisfied: pandas in /usr/local/lib/python3.11/dist-packages (2.2.2)\n",
            "Collecting botocore<1.38.0,>=1.37.1 (from boto3)\n",
            "  Downloading botocore-1.37.1-py3-none-any.whl.metadata (5.7 kB)\n",
            "Collecting jmespath<2.0.0,>=0.7.1 (from boto3)\n",
            "  Downloading jmespath-1.0.1-py3-none-any.whl.metadata (7.6 kB)\n",
            "Collecting s3transfer<0.12.0,>=0.11.0 (from boto3)\n",
            "  Downloading s3transfer-0.11.2-py3-none-any.whl.metadata (1.7 kB)\n",
            "Requirement already satisfied: numpy>=1.23.2 in /usr/local/lib/python3.11/dist-packages (from pandas) (1.26.4)\n",
            "Requirement already satisfied: python-dateutil>=2.8.2 in /usr/local/lib/python3.11/dist-packages (from pandas) (2.8.2)\n",
            "Requirement already satisfied: pytz>=2020.1 in /usr/local/lib/python3.11/dist-packages (from pandas) (2025.1)\n",
            "Requirement already satisfied: tzdata>=2022.7 in /usr/local/lib/python3.11/dist-packages (from pandas) (2025.1)\n",
            "Requirement already satisfied: urllib3!=2.2.0,<3,>=1.25.4 in /usr/local/lib/python3.11/dist-packages (from botocore<1.38.0,>=1.37.1->boto3) (2.3.0)\n",
            "Requirement already satisfied: six>=1.5 in /usr/local/lib/python3.11/dist-packages (from python-dateutil>=2.8.2->pandas) (1.17.0)\n",
            "Downloading boto3-1.37.1-py3-none-any.whl (139 kB)\n",
            "\u001b[2K   \u001b[90m━━━━━━━━━━━━━━━━━━━━━━━━━━━━━━━━━━━━━━━━\u001b[0m \u001b[32m139.3/139.3 kB\u001b[0m \u001b[31m3.5 MB/s\u001b[0m eta \u001b[36m0:00:00\u001b[0m\n",
            "\u001b[?25hDownloading botocore-1.37.1-py3-none-any.whl (13.4 MB)\n",
            "\u001b[2K   \u001b[90m━━━━━━━━━━━━━━━━━━━━━━━━━━━━━━━━━━━━━━━━\u001b[0m \u001b[32m13.4/13.4 MB\u001b[0m \u001b[31m42.1 MB/s\u001b[0m eta \u001b[36m0:00:00\u001b[0m\n",
            "\u001b[?25hDownloading jmespath-1.0.1-py3-none-any.whl (20 kB)\n",
            "Downloading s3transfer-0.11.2-py3-none-any.whl (84 kB)\n",
            "\u001b[2K   \u001b[90m━━━━━━━━━━━━━━━━━━━━━━━━━━━━━━━━━━━━━━━━\u001b[0m \u001b[32m84.2/84.2 kB\u001b[0m \u001b[31m7.3 MB/s\u001b[0m eta \u001b[36m0:00:00\u001b[0m\n",
            "\u001b[?25hInstalling collected packages: jmespath, botocore, s3transfer, boto3\n",
            "Successfully installed boto3-1.37.1 botocore-1.37.1 jmespath-1.0.1 s3transfer-0.11.2\n"
          ]
        }
      ],
      "source": [
        "pip install boto3 pandas py7zr"
      ]
    },
    {
      "cell_type": "code",
      "execution_count": null,
      "metadata": {
        "id": "3OH-bX3LI6J3"
      },
      "outputs": [],
      "source": [
        "import torch\n",
        "import torch.nn as nn\n",
        "import torch.nn.functional as F\n",
        "import torch.optim as optim\n",
        "import boto3\n",
        "from torch.utils.data import Dataset, DataLoader, random_split\n",
        "import torchvision.transforms as transforms\n",
        "import os\n",
        "import pandas as pd\n",
        "from PIL import Image"
      ]
    },
    {
      "cell_type": "code",
      "execution_count": null,
      "metadata": {
        "id": "D4nJQ5REi18c"
      },
      "outputs": [],
      "source": [
        "# Step 3: Connect to S3 with credentials and download the dataset\n",
        "s3 = boto3.client(\n",
        "    's3',\n",
        "    aws_access_key_id='your Access Key',                         # Replace with your AWS Access Key\n",
        "    aws_secret_access_key='your Secret Access Key'               # Replace with your AWS Secret Key\n",
        ")"
      ]
    },
    {
      "cell_type": "code",
      "execution_count": null,
      "metadata": {
        "colab": {
          "base_uri": "https://localhost:8080/"
        },
        "id": "NhuOPVrTjV35",
        "outputId": "2ec2d63f-325d-49b6-9cc7-555f45aaf1df"
      },
      "outputs": [
        {
          "name": "stdout",
          "output_type": "stream",
          "text": [
            "Extracted contents: ['sampleSubmission.csv', 'train.7z', 'test.7z', 'trainLabels.csv']\n"
          ]
        }
      ],
      "source": [
        "bucket_name = 'cifar-10-folder'  # Replace with your S3 bucket name\n",
        "zip_key = 'cifar-10.zip'         # Path to your zip file in S3 (e.g., 'path/to/cifar-10.zip')\n",
        "local_zip_path = '/content/cifar-10.zip'\n",
        "extracted_path = '/content/cifar-10'\n",
        "s3.download_file(bucket_name, zip_key, local_zip_path)\n",
        "with zipfile.ZipFile(local_zip_path, 'r') as zip_ref:\n",
        "    zip_ref.extractall(extracted_path)\n",
        "print(\"Extracted contents:\", os.listdir(extracted_path))"
      ]
    },
    {
      "cell_type": "code",
      "execution_count": null,
      "metadata": {
        "colab": {
          "base_uri": "https://localhost:8080/"
        },
        "id": "0yH_Wc-Kj909",
        "outputId": "253a00d9-b858-457e-fdd7-bdfa11a1dfd0"
      },
      "outputs": [
        {
          "name": "stdout",
          "output_type": "stream",
          "text": [
            "Connecting to S3 and downloading dataset...\n",
            "Successfully downloaded cifar-10.zip from cifar-10-folder\n"
          ]
        }
      ],
      "source": [
        "# Download the zip file from S3\n",
        "print(\"Connecting to S3 and downloading dataset...\")\n",
        "try:\n",
        "    s3.download_file(bucket_name, zip_key, local_zip_path)\n",
        "    print(f\"Successfully downloaded {zip_key} from {bucket_name}\")\n",
        "except Exception as e:\n",
        "    print(f\"Error downloading from S3: {e}\")\n",
        "    raise"
      ]
    },
    {
      "cell_type": "code",
      "execution_count": null,
      "metadata": {
        "colab": {
          "base_uri": "https://localhost:8080/"
        },
        "id": "4xeZATIlkC-d",
        "outputId": "8047e51c-fef2-494a-bfc5-9523e2116bea"
      },
      "outputs": [
        {
          "name": "stdout",
          "output_type": "stream",
          "text": [
            "Extracting dataset...\n",
            "Extracted contents: ['sampleSubmission.csv', 'train.7z', 'test.7z', 'trainLabels.csv']\n",
            "Extracting train.7z and test.7z...\n",
            "Extracted /content/cifar-10/train.7z\n",
            "Extracted /content/cifar-10/test.7z\n",
            "Updated contents: ['test', 'sampleSubmission.csv', 'train.7z', 'train', 'test.7z', 'trainLabels.csv']\n"
          ]
        }
      ],
      "source": [
        "import py7zr\n",
        "\n",
        "print(\"Extracting dataset...\")\n",
        "with zipfile.ZipFile(local_zip_path, 'r') as zip_ref:\n",
        "    zip_ref.extractall(extracted_path)\n",
        "print(\"Extracted contents:\", os.listdir(extracted_path))\n",
        "\n",
        "# Extract the .7z files\n",
        "print(\"Extracting train.7z and test.7z...\")\n",
        "train_7z_path = os.path.join(extracted_path, 'train.7z')\n",
        "with py7zr.SevenZipFile(train_7z_path, 'r') as archive:\n",
        "    archive.extractall(path=extracted_path)\n",
        "print(f\"Extracted {train_7z_path}\")\n",
        "\n",
        "test_7z_path = os.path.join(extracted_path, 'test.7z')\n",
        "with py7zr.SevenZipFile(test_7z_path, 'r') as archive:\n",
        "    archive.extractall(path=extracted_path)\n",
        "print(f\"Extracted {test_7z_path}\")\n",
        "\n",
        "# Verify the extracted contents\n",
        "print(\"Updated contents:\", os.listdir(extracted_path))"
      ]
    },
    {
      "cell_type": "code",
      "execution_count": null,
      "metadata": {
        "colab": {
          "base_uri": "https://localhost:8080/"
        },
        "id": "gpA-1-S2uqsz",
        "outputId": "d37262d9-32b7-4272-f6af-1ea3e11100b8"
      },
      "outputs": [
        {
          "name": "stdout",
          "output_type": "stream",
          "text": [
            "Using device: cuda\n"
          ]
        }
      ],
      "source": [
        "# Set up device\n",
        "device = torch.device(\"cuda\" if torch.cuda.is_available() else \"cpu\")\n",
        "print(f\"Using device: {device}\")"
      ]
    },
    {
      "cell_type": "code",
      "execution_count": null,
      "metadata": {
        "id": "u6tVzL7nkIj5"
      },
      "outputs": [],
      "source": [
        "# Custom Dataset Class\n",
        "class CustomCIFAR10Dataset(Dataset):\n",
        "    def __init__(self, image_dir, labels_file=None, transform=None):\n",
        "        self.image_dir = image_dir\n",
        "        self.transform = transform\n",
        "        self.classes = ['airplane', 'automobile', 'bird', 'cat', 'deer',\n",
        "                        'dog', 'frog', 'horse', 'ship', 'truck']\n",
        "        if labels_file:\n",
        "            self.labels_df = pd.read_csv(labels_file)\n",
        "            self.image_files = [str(id) + '.png' for id in self.labels_df['id']]\n",
        "            self.labels = [self.classes.index(label) for label in self.labels_df['label']]\n",
        "        else:\n",
        "            self.image_files = sorted(os.listdir(image_dir))\n",
        "            self.labels = None\n",
        "\n",
        "    def __len__(self):\n",
        "        return len(self.image_files)\n",
        "\n",
        "    def __getitem__(self, idx):\n",
        "        img_name = self.image_files[idx]\n",
        "        img_path = os.path.join(self.image_dir, img_name)\n",
        "        image = Image.open(img_path).convert('RGB')\n",
        "        if self.transform:\n",
        "            image = self.transform(image)\n",
        "        if self.labels is not None:\n",
        "            label = self.labels[idx]\n",
        "            return image, label            # If labels exist, returns a tuple of (image, label).\n",
        "        return image                       # Otherwise, returns only the image."
      ]
    },
    {
      "cell_type": "code",
      "execution_count": null,
      "metadata": {
        "id": "MYTCbIPUkQtj"
      },
      "outputs": [],
      "source": [
        "# Define transformations\n",
        "transform = transforms.Compose([\n",
        "    transforms.ToTensor(),                                  # Converts PIL images to PyTorch tensors (range [0, 1]).\n",
        "    transforms.Normalize((0.5, 0.5, 0.5), (0.5, 0.5, 0.5))  # Normalizes the tensor\n",
        "])"
      ]
    },
    {
      "cell_type": "code",
      "execution_count": null,
      "metadata": {
        "id": "gXO_iae0kmXb"
      },
      "outputs": [],
      "source": [
        "# Load full training dataset\n",
        "train_dir = '/content/cifar-10/train'\n",
        "labels_file = '/content/cifar-10/trainLabels.csv'\n",
        "full_train_dataset = CustomCIFAR10Dataset(train_dir, labels_file, transform=transform) # Creates a dataset instance for training data with labels and transformations."
      ]
    },
    {
      "cell_type": "code",
      "execution_count": null,
      "metadata": {
        "id": "BRKz96CUkrAL"
      },
      "outputs": [],
      "source": [
        "# Load test dataset\n",
        "test_dir = '/content/cifar-10/test'\n",
        "test_dataset = CustomCIFAR10Dataset(test_dir, transform=transform)\n",
        "testloader = DataLoader(test_dataset, batch_size=batch_size, shuffle=False)"
      ]
    },
    {
      "cell_type": "code",
      "execution_count": null,
      "metadata": {
        "id": "Rf4dZ2Arkszp"
      },
      "outputs": [],
      "source": [
        "# Create DataLoaders\n",
        "batch_size = 128\n",
        "trainloader = DataLoader(train_dataset, batch_size=batch_size, shuffle=True)\n",
        "valloader = DataLoader(val_dataset, batch_size=batch_size, shuffle=False)"
      ]
    },
    {
      "cell_type": "code",
      "execution_count": null,
      "metadata": {
        "id": "2LHg91bcqsT8"
      },
      "outputs": [],
      "source": [
        "# Define Teacher Model\n",
        "class TeacherModel(nn.Module):\n",
        "    def __init__(self):\n",
        "        super(TeacherModel, self).__init__()\n",
        "        self.conv1 = nn.Conv2d(3, 32, kernel_size=3, padding=1)  #(3 input channels (RGB), 32 output channels, 3x3 kernel, padding=1.)\n",
        "        self.conv2 = nn.Conv2d(32, 64, kernel_size=3, padding=1) #(32 input channels, 64 output channels.)\n",
        "        self.pool = nn.MaxPool2d(2, 2)                           #(layer with 2x2 kernel and stride 2.)\n",
        "        self.fc1 = nn.Linear(64 * 8 * 8, 512)                    #(input size 64x8x8 (after convolutions and pooling), output size 512.)\n",
        "        self.fc2 = nn.Linear(512, 10)                            #(output size 10 (one per CIFAR-10 class))\n",
        "\n",
        "    def forward(self, x):\n",
        "        x = self.pool(F.relu(self.conv1(x)))                     #(Applies conv1, ReLU activation, and pooling)\n",
        "        x = self.pool(F.relu(self.conv2(x)))                     #(Applies conv2, ReLU, and pooling.)\n",
        "        x = x.view(-1, 64 * 8 * 8)                               #(Flattens the tensor to shape)\n",
        "        x = F.relu(self.fc1(x))                                  #(Applies the first fully connected layer with ReLU)\n",
        "        x = self.fc2(x)                                          #(Applies the second fully connected layer.)\n",
        "        return x                                                 #(output logits)"
      ]
    },
    {
      "cell_type": "code",
      "execution_count": null,
      "metadata": {
        "id": "iJ0cRH9rschJ"
      },
      "outputs": [],
      "source": [
        "# Train Teacher Model\n",
        "teacher = TeacherModel().to(device)\n",
        "criterion = nn.CrossEntropyLoss()                       # Defines the loss function\n",
        "optimizer = optim.Adam(teacher.parameters(), lr=0.001)  # Sets up the Adam optimizer with a learning rate of 0.001."
      ]
    },
    {
      "cell_type": "code",
      "execution_count": null,
      "metadata": {
        "id": "5sE4ORSdsmgT"
      },
      "outputs": [],
      "source": [
        "def train_model(model, trainloader, valloader, criterion, optimizer, epochs=10):\n",
        "    for epoch in range(epochs):\n",
        "        model.train()\n",
        "        running_loss = 0.0\n",
        "        for i, data in enumerate(trainloader, 0):\n",
        "            inputs, labels = data                                  # Unpacks the batch into images and labels\n",
        "            inputs, labels = inputs.to(device), labels.to(device)  # Moves data to the device\n",
        "            optimizer.zero_grad()                                  # Clears previous gradients.\n",
        "            outputs = model(inputs)                                # Computes model predictions.\n",
        "            loss = criterion(outputs, labels)                      # Calculates the loss.\n",
        "            loss.backward()\n",
        "            optimizer.step()                                       # Updates model weights.\n",
        "            running_loss += loss.item()                            # Adds the batch loss to the running total.\n",
        "        print(f'Teacher Epoch {epoch+1}, Loss: {running_loss / len(trainloader)}')\n",
        "\n",
        "        # Validation\n",
        "        model.eval()\n",
        "        correct = 0\n",
        "        total = 0\n",
        "        with torch.no_grad():\n",
        "            for data in valloader:\n",
        "                images, labels = data\n",
        "                images, labels = images.to(device), labels.to(device)\n",
        "                outputs = model(images)\n",
        "                _, predicted = torch.max(outputs.data, 1)       # Gets the predicted class indices.\n",
        "                total += labels.size(0)                         # Adds the batch size to the total.\n",
        "                correct += (predicted == labels).sum().item()   # Counts correct predictions.\n",
        "        print(f'Teacher Validation Accuracy: {100 * correct / total}%')"
      ]
    },
    {
      "cell_type": "code",
      "execution_count": null,
      "metadata": {
        "colab": {
          "base_uri": "https://localhost:8080/"
        },
        "id": "YbnAH4h3sgFh",
        "outputId": "9c73d8f6-8f5f-4bac-c919-922cd52ff81a"
      },
      "outputs": [
        {
          "name": "stdout",
          "output_type": "stream",
          "text": [
            "Teacher Epoch 1, Loss: 1.4078150583913152\n",
            "Teacher Validation Accuracy: 58.89%\n",
            "Teacher Epoch 2, Loss: 1.0240199364031466\n",
            "Teacher Validation Accuracy: 62.75%\n",
            "Teacher Epoch 3, Loss: 0.8485784155492204\n",
            "Teacher Validation Accuracy: 66.32%\n",
            "Teacher Epoch 4, Loss: 0.7164014269368717\n",
            "Teacher Validation Accuracy: 69.45%\n",
            "Teacher Epoch 5, Loss: 0.5795570778580138\n",
            "Teacher Validation Accuracy: 71.5%\n",
            "Teacher Epoch 6, Loss: 0.4499338159736353\n",
            "Teacher Validation Accuracy: 70.23%\n",
            "Teacher Epoch 7, Loss: 0.31926864480819944\n",
            "Teacher Validation Accuracy: 71.19%\n",
            "Teacher Epoch 8, Loss: 0.20550964815548053\n",
            "Teacher Validation Accuracy: 71.1%\n",
            "Teacher Epoch 9, Loss: 0.1293767948215381\n",
            "Teacher Validation Accuracy: 70.48%\n",
            "Teacher Epoch 10, Loss: 0.07968016717428217\n",
            "Teacher Validation Accuracy: 71.01%\n"
          ]
        }
      ],
      "source": [
        "train_model(teacher, trainloader, valloader, criterion, optimizer, epochs=10)\n",
        "\n",
        "# Save Teacher Model\n",
        "torch.save(teacher.state_dict(), '/content/teacher_model.pth')"
      ]
    },
    {
      "cell_type": "code",
      "execution_count": null,
      "metadata": {
        "id": "wqMYhBIVsiRn"
      },
      "outputs": [],
      "source": [
        "# Define Student Model\n",
        "class StudentModel(nn.Module):\n",
        "    def __init__(self):\n",
        "        super(StudentModel, self).__init__()\n",
        "        self.conv1 = nn.Conv2d(3, 16, kernel_size=3, padding=1)\n",
        "        self.pool = nn.MaxPool2d(2, 2)\n",
        "        self.fc1 = nn.Linear(16 * 16 * 16, 10)\n",
        "\n",
        "    def forward(self, x):\n",
        "        x = self.pool(F.relu(self.conv1(x)))\n",
        "        x = x.view(-1, 16 * 16 * 16)\n",
        "        x = self.fc1(x)\n",
        "        return x"
      ]
    },
    {
      "cell_type": "code",
      "execution_count": null,
      "metadata": {
        "id": "akiuSTsHyD5l"
      },
      "outputs": [],
      "source": [
        "# Set up distillation parameters\n",
        "T = 2.0  # Temperature for softening probabilities\n",
        "alpha = 0.5  # Weight for distillation loss"
      ]
    },
    {
      "cell_type": "code",
      "execution_count": null,
      "metadata": {
        "id": "YpFdZcfryF2d"
      },
      "outputs": [],
      "source": [
        "# Train Student with Distillation\n",
        "student = StudentModel().to(device)    # Instantiates the student model and moves it to the device.\n",
        "optimizer_s = optim.Adam(student.parameters(), lr=0.001)  # Sets up the optimizer for the student."
      ]
    },
    {
      "cell_type": "code",
      "execution_count": null,
      "metadata": {
        "colab": {
          "base_uri": "https://localhost:8080/"
        },
        "id": "4KVHKlBQyIIY",
        "outputId": "47e64dbb-cb0b-439d-80f7-1fa2e754c66f"
      },
      "outputs": [
        {
          "name": "stderr",
          "output_type": "stream",
          "text": [
            "<ipython-input-45-93a0f5a03b60>:2: FutureWarning: You are using `torch.load` with `weights_only=False` (the current default value), which uses the default pickle module implicitly. It is possible to construct malicious pickle data which will execute arbitrary code during unpickling (See https://github.com/pytorch/pytorch/blob/main/SECURITY.md#untrusted-models for more details). In a future release, the default value for `weights_only` will be flipped to `True`. This limits the functions that could be executed during unpickling. Arbitrary objects will no longer be allowed to be loaded via this mode unless they are explicitly allowlisted by the user via `torch.serialization.add_safe_globals`. We recommend you start setting `weights_only=True` for any use case where you don't have full control of the loaded file. Please open an issue on GitHub for any issues related to this experimental feature.\n",
            "  teacher.load_state_dict(torch.load('/content/teacher_model.pth'))\n"
          ]
        },
        {
          "data": {
            "text/plain": [
              "TeacherModel(\n",
              "  (conv1): Conv2d(3, 32, kernel_size=(3, 3), stride=(1, 1), padding=(1, 1))\n",
              "  (conv2): Conv2d(32, 64, kernel_size=(3, 3), stride=(1, 1), padding=(1, 1))\n",
              "  (pool): MaxPool2d(kernel_size=2, stride=2, padding=0, dilation=1, ceil_mode=False)\n",
              "  (fc1): Linear(in_features=4096, out_features=512, bias=True)\n",
              "  (fc2): Linear(in_features=512, out_features=10, bias=True)\n",
              ")"
            ]
          },
          "execution_count": 45,
          "metadata": {},
          "output_type": "execute_result"
        }
      ],
      "source": [
        "# Load pre-trained teacher\n",
        "teacher.load_state_dict(torch.load('/content/teacher_model.pth'))  # Loads the pre-trained teacher model’s parameters.\n",
        "teacher.eval()                                                     # Sets the teacher to evaluation mode."
      ]
    },
    {
      "cell_type": "code",
      "execution_count": null,
      "metadata": {
        "id": "38Y9LBckyJ1R"
      },
      "outputs": [],
      "source": [
        "def distillation_loss(student_output, teacher_output, labels, T, alpha):\n",
        "    \"\"\"Compute the distillation loss combining hard and soft targets.\"\"\"\n",
        "    loss_hard = F.cross_entropy(student_output, labels)    # Computes the standard cross-entropy loss with hard labels.\n",
        "    loss_soft = nn.KLDivLoss(reduction='batchmean')(       # Computes the KL divergence between softened student and teacher outputs:\n",
        "        F.log_softmax(student_output / T, dim=1),          # Softens student logits with temperature.\n",
        "        F.softmax(teacher_output / T, dim=1)               # Softens teacher logits.\n",
        "    )\n",
        "    return (1 - alpha) * loss_hard + alpha * (T**2) * loss_soft     # Combines hard and soft losses, scaling the soft loss by T**2"
      ]
    },
    {
      "cell_type": "code",
      "execution_count": null,
      "metadata": {
        "colab": {
          "base_uri": "https://localhost:8080/"
        },
        "id": "m5upq-wAyMzA",
        "outputId": "5adabb33-7603-4eb1-e767-7f9572d43571"
      },
      "outputs": [
        {
          "name": "stdout",
          "output_type": "stream",
          "text": [
            "Student Epoch 1, Loss: 1.8086134241031\n",
            "Student Validation Accuracy: 61.23%\n",
            "Student Epoch 2, Loss: 1.7702431396935314\n",
            "Student Validation Accuracy: 61.21%\n",
            "Student Epoch 3, Loss: 1.7376197637460482\n",
            "Student Validation Accuracy: 61.39%\n",
            "Student Epoch 4, Loss: 1.7027825878831906\n",
            "Student Validation Accuracy: 61.57%\n",
            "Student Epoch 5, Loss: 1.6741983330668733\n",
            "Student Validation Accuracy: 61.98%\n",
            "Student Epoch 6, Loss: 1.6487963291021963\n",
            "Student Validation Accuracy: 62.01%\n",
            "Student Epoch 7, Loss: 1.61771988449767\n",
            "Student Validation Accuracy: 62.08%\n",
            "Student Epoch 8, Loss: 1.5945967352047514\n",
            "Student Validation Accuracy: 61.83%\n",
            "Student Epoch 9, Loss: 1.5733300036134812\n",
            "Student Validation Accuracy: 62.46%\n",
            "Student Epoch 10, Loss: 1.5574714947051513\n",
            "Student Validation Accuracy: 62.49%\n"
          ]
        }
      ],
      "source": [
        "for epoch in range(10):\n",
        "    student.train()\n",
        "    running_loss = 0.0\n",
        "    for i, data in enumerate(trainloader, 0):\n",
        "        inputs, labels = data\n",
        "        inputs, labels = inputs.to(device), labels.to(device)\n",
        "        optimizer_s.zero_grad()\n",
        "        with torch.no_grad():\n",
        "            teacher_output = teacher(inputs)            # Gets teacher predictions.\n",
        "        student_output = student(inputs)                # Gets student predictions.\n",
        "        loss = distillation_loss(student_output, teacher_output, labels, T, alpha)     # Computes the distillation loss.\n",
        "        loss.backward()\n",
        "        optimizer_s.step()\n",
        "        running_loss += loss.item()\n",
        "    print(f'Student Epoch {epoch+1}, Loss: {running_loss / len(trainloader)}')\n",
        "\n",
        "    # Evaluates the student on the validation set (same as teacher validation).\n",
        "    student.eval()\n",
        "    correct = 0\n",
        "    total = 0\n",
        "    with torch.no_grad():\n",
        "        for data in valloader:\n",
        "            images, labels = data\n",
        "            images, labels = images.to(device), labels.to(device)\n",
        "            outputs = student(images)\n",
        "            _, predicted = torch.max(outputs.data, 1)\n",
        "            total += labels.size(0)\n",
        "            correct += (predicted == labels).sum().item()\n",
        "    print(f'Student Validation Accuracy: {100 * correct / total}%')"
      ]
    },
    {
      "cell_type": "code",
      "execution_count": null,
      "metadata": {
        "colab": {
          "base_uri": "https://localhost:8080/",
          "height": 1000
        },
        "id": "wMvEpRU3ySjx",
        "outputId": "a5bafe04-2192-4b93-81a3-49d15c8e1e0c"
      },
      "outputs": [
        {
          "name": "stdout",
          "output_type": "stream",
          "text": [
            "Sample Predictions (logits for first 5 test images): tensor([[-2.7793, -6.0313,  2.9771,  1.2745,  1.2803,  2.6682, -2.6175, -6.3022,\n",
            "         -5.1657, -9.8908],\n",
            "        [-2.1333, -4.5994, -2.1882, -0.2146, -1.9176,  0.7456, -3.2040, -1.8253,\n",
            "         -2.5212, -5.7766],\n",
            "        [-2.8640, -5.7241,  4.9111, -0.9644,  5.5295,  1.0864,  2.6348,  0.8047,\n",
            "         -8.5559, -6.6812],\n",
            "        [-3.2018, -4.4935,  0.1270, -4.5156,  0.8762, -3.9375,  0.2410, -0.0278,\n",
            "         -7.2973, -4.0741],\n",
            "        [-2.5879, -6.4850,  2.3283,  0.2668,  1.8843, -0.5697,  3.7025, -2.1559,\n",
            "         -8.4975, -5.3947]], device='cuda:0')\n",
            "\n",
            "Predicted Labels for First 5 Test Images:\n",
            "   id predicted_label\n",
            "0   1            bird\n",
            "1   2             dog\n",
            "2   3            deer\n",
            "3   4            deer\n",
            "4   5            frog\n"
          ]
        },
        {
          "data": {
            "image/png": "[encoded data removed]",
            "text/plain": [
              "<Figure size 400x400 with 1 Axes>"
            ]
          },
          "metadata": {},
          "output_type": "display_data"
        },
        {
          "data": {
            "image/png": "[encoded data removed]",
            "text/plain": [
              "<Figure size 400x400 with 1 Axes>"
            ]
          },
          "metadata": {},
          "output_type": "display_data"
        },
        {
          "data": {
            "image/png": "[encoded data removed]",
            "text/plain": [
              "<Figure size 400x400 with 1 Axes>"
            ]
          },
          "metadata": {},
          "output_type": "display_data"
        },
        {
          "data": {
            "image/png": "[encoded data removed]",
            "text/plain": [
              "<Figure size 400x400 with 1 Axes>"
            ]
          },
          "metadata": {},
          "output_type": "display_data"
        },
        {
          "data": {
            "image/png": "[encoded data removed]",
            "text/plain": [
              "<Figure size 400x400 with 1 Axes>"
            ]
          },
          "metadata": {},
          "output_type": "display_data"
        }
      ],
      "source": [
        "# Generate predictions on test set and display sample images\n",
        "import matplotlib.pyplot as plt\n",
        "import numpy as np\n",
        "import pandas as pd\n",
        "import torch\n",
        "\n",
        "# Define CIFAR-10 class names\n",
        "class_names = ['airplane', 'automobile', 'bird', 'cat', 'deer', 'dog', 'frog', 'horse', 'ship', 'truck']\n",
        "student.eval()        # Sets the student to evaluation mode.\n",
        "with torch.no_grad():\n",
        "    for i, data in enumerate(testloader, 0):\n",
        "        images = data  # Test dataset returns only images\n",
        "        images = images.to(device)\n",
        "        outputs = student(images)\n",
        "        predicted_classes = torch.argmax(outputs, dim=1)  # Get predicted class indices\n",
        "        if i == 0:  # Process first batch\n",
        "            # Print original logits for reference\n",
        "            print('Sample Predictions (logits for first 5 test images):', outputs[:5])\n",
        "\n",
        "            # Create DataFrame with image IDs and predicted labels\n",
        "            batch_size = images.size(0)\n",
        "            image_ids = list(range(1, batch_size + 1))  # Assuming IDs start from 1\n",
        "            predicted_labels = [class_names[idx.item()] for idx in predicted_classes]\n",
        "            df = pd.DataFrame({'id': image_ids, 'predicted_label': predicted_labels})\n",
        "            print(\"\\nPredicted Labels for First 5 Test Images:\")\n",
        "            print(df.head(5))\n",
        "\n",
        "            # Move images to CPU and unnormalize for display\n",
        "            images_cpu = images.cpu()\n",
        "            # Assuming normalization with mean=0.5, std=0.5 per channel\n",
        "            images_unnormalized = images_cpu * 0.5 + 0.5  # Scale from [-1,1] to [0,1]\n",
        "            images_unnormalized = images_unnormalized.numpy()\n",
        "\n",
        "            # Display first 5 images with predicted labels\n",
        "            for j in range(5):\n",
        "                img = images_unnormalized[j].transpose(1, 2, 0)  # Change from CxHxW to HxWxC\n",
        "                plt.figure(figsize=(4, 4))\n",
        "                plt.imshow(img)\n",
        "                plt.title(f'Image ID: {image_ids[j]} | Predicted: {predicted_labels[j]}')\n",
        "                plt.axis('off')\n",
        "                plt.show()\n",
        "            break\n"
      ]
    },
    {
      "cell_type": "code",
      "execution_count": null,
      "metadata": {
        "id": "A2ISAEsIzEB-"
      },
      "outputs": [],
      "source": []
    }
  ],
  "metadata": {
    "colab": {
      "provenance": []
    },
    "kernelspec": {
      "display_name": "Python 3",
      "name": "python3"
    },
    "language_info": {
      "name": "python"
    }
  },
  "nbformat": 4,
  "nbformat_minor": 0
}
